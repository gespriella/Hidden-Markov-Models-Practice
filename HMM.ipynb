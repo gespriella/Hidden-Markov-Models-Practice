{
 "cells": [
  {
   "cell_type": "code",
   "execution_count": 7,
   "metadata": {},
   "outputs": [],
   "source": [
    "import numpy as np\r\n",
    "from hmmlearn import hmm\r\n",
    "from sklearn.preprocessing import LabelEncoder"
   ]
  },
  {
   "cell_type": "code",
   "execution_count": 8,
   "metadata": {},
   "outputs": [],
   "source": [
    "states = [\"healthy\", \"fever\"]\r\n",
    "observations = [\"normal\",\"cold\",\"dizzy\"]"
   ]
  },
  {
   "cell_type": "markdown",
   "metadata": {},
   "source": [
    "# Multinomial Hidden Markov Model algorithm initialization"
   ]
  },
  {
   "cell_type": "code",
   "execution_count": 9,
   "metadata": {},
   "outputs": [],
   "source": [
    "model = hmm.MultinomialHMM(n_components=2, verbose=True)\r\n",
    "model.startprob_ = np.array([0.6, 0.4])\r\n",
    "model.transmat_ = np.array([[0.7, 0.3],\r\n",
    "                            [0.4, 0.6]])\r\n",
    "model.emissionprob_ = np.array([[0.5, 0.4, 0.1],\r\n",
    "                                [0.1, 0.3, 0.6]])\r\n"
   ]
  },
  {
   "cell_type": "markdown",
   "metadata": {},
   "source": [
    "# Viterbi"
   ]
  },
  {
   "cell_type": "code",
   "execution_count": 10,
   "metadata": {},
   "outputs": [
    {
     "name": "stdout",
     "output_type": "stream",
     "text": [
      "Given observations sequence:\n",
      "0 : normal\n",
      "1 : cold\n",
      "2 : dizzy\n",
      "Most probable states sequence:\n",
      "0 : healthy\n",
      "0 : healthy\n",
      "1 : fever\n",
      "1.512 % chance of states sequence happening\n"
     ]
    }
   ],
   "source": [
    "XobsSequence = [[0],[1],[2]]\r\n",
    "\r\n",
    "print(\"Given observations sequence:\")\r\n",
    "for i in XobsSequence: \r\n",
    "    print(i[0], \":\", observations[i[0]])\r\n",
    "logprob, state_sequence = model.decode(XobsSequence, algorithm=\"viterbi\")\r\n",
    "print(\"Most probable states sequence:\")\r\n",
    "for i in state_sequence: \r\n",
    "    print(i, \":\", states[i])\r\n",
    "print(round(np.exp(logprob)*100,4),\"% chance of states sequence happening\")"
   ]
  },
  {
   "cell_type": "markdown",
   "metadata": {},
   "source": [
    "# Forward-Backward Probability"
   ]
  },
  {
   "cell_type": "code",
   "execution_count": 11,
   "metadata": {},
   "outputs": [
    {
     "name": "stdout",
     "output_type": "stream",
     "text": [
      "Given observations sequence:\n",
      "0 : normal\n",
      "1 : cold\n",
      "2 : dizzy\n",
      "3.628 % chance of observations sequence happening\n"
     ]
    }
   ],
   "source": [
    "XobsSequence = [[0],[1],[2]]\r\n",
    "\r\n",
    "print(\"Given observations sequence:\")\r\n",
    "for i in XobsSequence: \r\n",
    "    print(i[0], \":\", observations[i[0]])\r\n",
    "logprob = model.score(XobsSequence)\r\n",
    "print(round(np.exp(logprob)*100,4),\"% chance of observations sequence happening\")"
   ]
  },
  {
   "cell_type": "markdown",
   "metadata": {},
   "source": [
    "# Expectation Maximization (Baum–Welch)"
   ]
  },
  {
   "cell_type": "code",
   "execution_count": 39,
   "metadata": {},
   "outputs": [
    {
     "name": "stdout",
     "output_type": "stream",
     "text": [
      "States probabilities given a sequence of observations\n",
      "[[0.3550439  0.6449561 ]\n",
      " [0.28637556 0.71362444]]\n",
      "Emission state # 0 :  {'normal': 0.9762882334079346, 'cold': 0.008501325391028708, 'dizzy': 0.015210441201036705}\n",
      "Emission state # 1 :  {'normal': 0.12290048002604755, 'cold': 0.44042187873103955, 'dizzy': 0.4366776412429128}\n"
     ]
    }
   ],
   "source": [
    "model = hmm.MultinomialHMM(n_components=len(states), n_iter=500000, verbose=False).fit([[0,0,1,0,2,2,2,1,0,0,1,1,2,0]])\r\n",
    "print(\"States probabilities given a sequence of observations\")\r\n",
    "print(model.transmat_)\r\n",
    "for i in range(len(states)):\r\n",
    "    print(\"Emission state #\",i,\": \", dict(zip(observations, model.emissionprob_[i])))"
   ]
  }
 ],
 "metadata": {
  "interpreter": {
   "hash": "1baa965d5efe3ac65b79dfc60c0d706280b1da80fedb7760faf2759126c4f253"
  },
  "kernelspec": {
   "display_name": "Python 3.8.8 64-bit",
   "name": "python3"
  },
  "language_info": {
   "codemirror_mode": {
    "name": "ipython",
    "version": 3
   },
   "file_extension": ".py",
   "mimetype": "text/x-python",
   "name": "python",
   "nbconvert_exporter": "python",
   "pygments_lexer": "ipython3",
   "version": "3.8.8"
  },
  "orig_nbformat": 4
 },
 "nbformat": 4,
 "nbformat_minor": 2
}